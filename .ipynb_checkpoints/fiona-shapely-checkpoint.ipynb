{
 "cells": [
  {
   "cell_type": "markdown",
   "metadata": {},
   "source": [
    "# Fiona y Shapely"
   ]
  },
  {
   "cell_type": "markdown",
   "metadata": {},
   "source": [
    "[Fiona](https://github.com/Toblerity/Fiona) es una biblioteca de Python para la lectura y escritura de datos geoespaciales vectoriales. Está basada en [GDAL](https://www.gdal.org/). Utiliza el estilo de Python para la lectura y escritura de datos. Además, se apoya en tipos y protocolos de Python como archivos y diccionarios, en lugar de clases específicas de GDAL. Se integra con otras bibliotecas como [pyproj](https://github.com/pyproj4/pyproj), [rtree](https://github.com/Toblerity/rtree) y Shapely. \n",
    "\n",
    "Por su parte, [Shapely](https://pypi.org/project/Shapely/) es un paquete de Python enfocado en la manipulación y el análisis de objetos planos. Está basado en las bibliotecas [GEOS](https://trac.osgeo.org/geos/) y [JTS](https://projects.eclipse.org/projects/locationtech.jts)."
   ]
  },
  {
   "cell_type": "markdown",
   "metadata": {},
   "source": [
    "## Instalación"
   ]
  },
  {
   "cell_type": "markdown",
   "metadata": {},
   "source": [
    "Para instalar ambos paquetes mediante **Conda**, deben ejecutarse las siguientes instrucciones desde la línea de comandos del sistema operativo (puede utilizarse la línea de comandos de Anaconda):\n",
    "\n",
    "```\n",
    "conda install -c conda-forge fiona\n",
    "conda install -c conda-forge shapely\n",
    "```"
   ]
  },
  {
   "cell_type": "markdown",
   "metadata": {},
   "source": [
    "## Importación"
   ]
  },
  {
   "cell_type": "code",
   "execution_count": null,
   "metadata": {},
   "outputs": [],
   "source": [
    "import fiona\n",
    "# Impresión de la versión de Fiona\n",
    "print(\"Versión de Fiona:\", fiona.__version__)\n",
    "\n",
    "import shapely\n",
    "# Impresión de la versión de Shapely\n",
    "print(\"Versión de Shapely:\", shapely.__version__)"
   ]
  },
  {
   "cell_type": "markdown",
   "metadata": {},
   "source": [
    "## Ejemplos de uso"
   ]
  },
  {
   "cell_type": "markdown",
   "metadata": {},
   "source": [
    "#### Apertura de un archivo vectorial, recorrido de los registros e impresión de atributos"
   ]
  },
  {
   "cell_type": "code",
   "execution_count": null,
   "metadata": {},
   "outputs": [],
   "source": [
    "# Apertura del archivo\n",
    "with fiona.open('datos/provincias_snit_crtm05.geojson', 'r') as provincias:\n",
    "    \n",
    "    # Recorrido de los registros\n",
    "    for registro_provincia in provincias:\n",
    "        print(registro_provincia['properties']['nom_prov'])  "
   ]
  },
  {
   "cell_type": "markdown",
   "metadata": {},
   "source": [
    "**Ejercicio**: Junto al nombre de cada provincia, imprima el código y el área."
   ]
  },
  {
   "cell_type": "markdown",
   "metadata": {},
   "source": [
    "#### Impresión de geometrías"
   ]
  },
  {
   "cell_type": "code",
   "execution_count": null,
   "metadata": {},
   "outputs": [],
   "source": [
    "# Geometrías\n",
    "\n",
    "with fiona.open('datos/us-states.json', 'r') as estados:\n",
    "    for registro_estado in estados:\n",
    "        print(registro_estado['geometry'])"
   ]
  },
  {
   "cell_type": "markdown",
   "metadata": {},
   "source": [
    "#### Funciones geoespaciales"
   ]
  },
  {
   "cell_type": "code",
   "execution_count": null,
   "metadata": {},
   "outputs": [],
   "source": [
    "# Centroides\n",
    "\n",
    "from shapely.geometry import shape\n",
    "\n",
    "with fiona.open('datos/provincias_snit_crtm05.geojson', 'r') as provincias:\n",
    "    for registro_provincias in provincias:\n",
    "        print(shape(registro_provincias['geometry']).centroid)"
   ]
  },
  {
   "cell_type": "code",
   "execution_count": null,
   "metadata": {},
   "outputs": [],
   "source": [
    "# Coordenadas (x, y) de los centroides\n",
    "\n",
    "from shapely.geometry import mapping, shape\n",
    "\n",
    "with fiona.open('datos/provincias_snit_crtm05.geojson', 'r') as provincias:\n",
    "    for registro_provincia in provincias:\n",
    "        print(mapping(shape(registro_provincia['geometry']).centroid)['coordinates'][0], \n",
    "              mapping(shape(registro_provincia['geometry']).centroid)['coordinates'][1])"
   ]
  },
  {
   "cell_type": "markdown",
   "metadata": {},
   "source": [
    "**Ejercicio**: Junto a las coordenadas de cada centroide, imprima el nombre de la provincia."
   ]
  },
  {
   "cell_type": "markdown",
   "metadata": {},
   "source": [
    "**Ejercicio:** Imprima también el área de cada provincia, calculada mediante Shapely."
   ]
  },
  {
   "cell_type": "markdown",
   "metadata": {},
   "source": [
    "En el siguiente ejemplo, se determina el polígono en el que está ubicado cada punto de una capa"
   ]
  },
  {
   "cell_type": "code",
   "execution_count": null,
   "metadata": {},
   "outputs": [],
   "source": [
    "from shapely.geometry import shape\n",
    "from collections import OrderedDict\n",
    "import logging\n",
    "\n",
    "# Archivo de registros de presencia de especies\n",
    "with fiona.open('datos/especies.geojson', 'r') as registros_presencia_especies:\n",
    "    \n",
    "    # Archivo de distritos de Curridabat\n",
    "    with fiona.open('datos/curridabat-distritos-wgs84-ign-2019.geojson', 'r') as distritos:\n",
    "        \n",
    "        for registro_presencia_especie in registros_presencia_especies:\n",
    "            for registro_distrito in distritos:\n",
    "                if shape(registro_distrito['geometry']).contains(shape(registro_presencia_especie['geometry'])):\n",
    "                    print(shape(registro_presencia_especie['geometry']), registro_distrito['properties']['nom_distr'])\n",
    "                    break"
   ]
  },
  {
   "cell_type": "markdown",
   "metadata": {},
   "source": [
    "**Ejercicio:** Imprima también el nombre científico de la especie correspondiente a cada registro de presencia."
   ]
  },
  {
   "cell_type": "markdown",
   "metadata": {},
   "source": [
    "**Ejercicio:** Imprima los registros de presencia de especies correspondientes a mamíferos (clase *Mammalia*)."
   ]
  },
  {
   "cell_type": "markdown",
   "metadata": {},
   "source": [
    "## Escritura de archivos"
   ]
  },
  {
   "cell_type": "markdown",
   "metadata": {},
   "source": [
    "En el siguiente ejemplo, se recorren los registros de un archivo vectorial de polígonos, se obtienen sus centroides y se escriben en un archivo separado."
   ]
  },
  {
   "cell_type": "code",
   "execution_count": null,
   "metadata": {},
   "outputs": [],
   "source": [
    "from shapely.geometry import shape\n",
    "from collections import OrderedDict\n",
    "\n",
    "# Apertura del archivo de provincias (entrada)\n",
    "with fiona.open('datos/provincias_snit.geojson', 'r') as provincias:\n",
    "    \n",
    "    # Esquema (estructura) del archivo de centroides\n",
    "    esquema_centroides = {\n",
    "        'geometry': 'Point',\n",
    "        'properties': OrderedDict([\n",
    "            ('provincia', 'str')\n",
    "        ])\n",
    "    }    \n",
    "    \n",
    "    # Apertura del archivo de centroides (salida)\n",
    "    with fiona.open('datos/centroides_provincias.geojson', 'w',\n",
    "                    crs=provincias.crs, \n",
    "                    driver=\"GeoJSON\",\n",
    "                    schema=esquema_centroides\n",
    "                    ) as centroides:\n",
    "        \n",
    "        # Recorrido de las provincias\n",
    "        for registro_provincia in provincias:\n",
    "            try:\n",
    "                # Construcción del registro de cada centroide\n",
    "                registro_centroide = {\n",
    "                    'geometry': {\n",
    "                        'type': 'Point',\n",
    "                        'coordinates': ((mapping(shape(registro_provincia['geometry']).centroid))['coordinates'][0],\n",
    "                                        (mapping(shape(registro_provincia['geometry']).centroid))['coordinates'][1])\n",
    "                    },\n",
    "                    'properties': OrderedDict([\n",
    "                        ('provincia', registro_provincia['properties']['nom_prov'])\n",
    "                    ])\n",
    "                }\n",
    "                # Escritura del registro de cada centroide\n",
    "                centroides.write(registro_centroide)        \n",
    "\n",
    "                # Impresión de la geometría del centroide\n",
    "                print(shape(registro_provincia['geometry']).centroid)\n",
    "            except:\n",
    "                logging.exception(\"Error al procesar el registro %s:\", registro_provincia['id'])\n",
    "            "
   ]
  },
  {
   "cell_type": "code",
   "execution_count": null,
   "metadata": {},
   "outputs": [],
   "source": []
  }
 ],
 "metadata": {
  "kernelspec": {
   "display_name": "Python 3",
   "language": "python",
   "name": "python3"
  },
  "language_info": {
   "codemirror_mode": {
    "name": "ipython",
    "version": 3
   },
   "file_extension": ".py",
   "mimetype": "text/x-python",
   "name": "python",
   "nbconvert_exporter": "python",
   "pygments_lexer": "ipython3",
   "version": "3.7.8"
  }
 },
 "nbformat": 4,
 "nbformat_minor": 2
}
